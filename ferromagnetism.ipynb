{
 "cells": [
  {
   "cell_type": "markdown",
   "metadata": {},
   "source": [
    "# Ферромагнетизм"
   ]
  },
  {
   "cell_type": "markdown",
   "metadata": {},
   "source": [
    "Найти тепло, выделившееся при намагничивании до насыщения и последующем полном размагничивании цилиндрического образца объёмом $V$, если процесс намагничивания и размагничивания описывается:\n",
    "$$B_\\uparrow(H) = B_s \\arctan(H - H_c)$$\n",
    "$$B_\\downarrow(H) = B_s \\arctan(H + H_c).$$\n",
    "Здесь $B_s$ - магнитная индуктивность насыщения, $H_c$ - коэрцитивная сила (от лат. coercitio \"удерживание\"), т.е. значение напряжённости внешнего магнитного поля, необходимое для полного размагничивания.\n",
    "\n",
    "![схема намагничивания](pics/ferromagnetism.png)"
   ]
  },
  {
   "cell_type": "markdown",
   "metadata": {},
   "source": [
    "### ***\n",
    "Тепловые потери обусловлены работой, необходимой для выполнения цикла намагничивания-размагничивания. Эта работа на единицу объёма ферромагнетика рассчитывается как площадь между кривыми намаагничивания и размагничивания: $\\oint \\vec{B}\\,d\\vec{H}.$ Тогда выделившееся тепло во всём образце:\n",
    "$$Q = V\\oint \\vec{B}\\,d\\vec{H} = V \\left( \\int_{-\\infty}^{+\\infty} B_\\uparrow(H)\\,dH - \\int_{-\\infty}^{+\\infty} B_\\downarrow(H)\\,dH \\right).$$"
   ]
  },
  {
   "cell_type": "markdown",
   "metadata": {},
   "source": [
    "## Численное решение"
   ]
  },
  {
   "cell_type": "markdown",
   "metadata": {},
   "source": [
    "Начнём с импорта необходимых библиотек: `NumPy` для работы с массивами, `SciPy` для численного интегрирования и `matplotlib` для построения графиков."
   ]
  },
  {
   "cell_type": "code",
   "execution_count": 1,
   "metadata": {},
   "outputs": [],
   "source": [
    "import numpy as np\n",
    "import scipy.integrate\n",
    "\n",
    "%matplotlib inline\n",
    "import matplotlib.pyplot as plt"
   ]
  },
  {
   "cell_type": "markdown",
   "metadata": {},
   "source": [
    "Зададим конкретные численные значения для констант, входящих в задачу: индуктивность насыщения $B_s$, коэрцитивная сила $H_c$, объём образца $V$."
   ]
  },
  {
   "cell_type": "code",
   "execution_count": 2,
   "metadata": {},
   "outputs": [],
   "source": [
    "Bs = 1.5    # Т, индукция насыщения\n",
    "Hc = 20.0   # A/m, \n",
    "V = 0.00004 # м3, объём образца 10см * 2см * 2см\n",
    "\n",
    "mu0 = 1.2566e-6 # Н/м, магнитная постоянная"
   ]
  },
  {
   "cell_type": "markdown",
   "metadata": {},
   "source": [
    "Определим функции, описывающие процесс намагничивания `B_up` и размагничивания `B_down`."
   ]
  },
  {
   "cell_type": "code",
   "execution_count": 3,
   "metadata": {},
   "outputs": [],
   "source": [
    "def B_up(H):\n",
    "    return Bs * np.arctan(H - Hc)\n",
    "    \n",
    "def B_down(H):\n",
    "    return Bs * np.arctan(H + Hc)"
   ]
  },
  {
   "cell_type": "markdown",
   "metadata": {},
   "source": [
    "Для наглядности построим графики этих функций."
   ]
  },
  {
   "cell_type": "code",
   "execution_count": 4,
   "metadata": {},
   "outputs": [
    {
     "data": {
      "image/png": "[encoded data removed]",
      "text/plain": [
       "<Figure size 432x288 with 1 Axes>"
      ]
     },
     "metadata": {},
     "output_type": "display_data"
    }
   ],
   "source": [
    "# Дискретная сетка \n",
    "hh = np.linspace(-70, 70, 100)\n",
    "\n",
    "# Подписи осей в формате TeX\n",
    "plt.xlabel(r'$H$, А/м')\n",
    "plt.ylabel(r'$B$, Т')\n",
    "plt.grid(True)\n",
    "\n",
    "# Вертикальная и горизонтальная черные линии X=0, Y=0, отмечающие оси координат \n",
    "plt.axvline(x=0.0, color='black')\n",
    "plt.axhline(y=0.0, color='black')\n",
    "\n",
    "# Графики с подписями в формате TeX, линии красная и синяя\n",
    "plt.plot(hh, B_up(hh), 'r', label = r'$B_\\uparrow$' )\n",
    "plt.plot(hh, B_down(hh), 'b', label = r'$B_\\downarrow$')\n",
    "plt.legend(loc='best', fontsize=16);\n",
    "\n",
    "plt.show()"
   ]
  },
  {
   "cell_type": "markdown",
   "metadata": {},
   "source": [
    "Для численного интегрирования воспользуемся методом `scipy.integrate.quad()` (quadrature) из библиотеки SciPy. Этот метод выполняет адаптивное вычисление определённого интеграла функции одной переменной и в том числе предоставляет возможность указания бесконечных пределов интегрирования. Метод возвращает значение интеграла и достигнутую точность. "
   ]
  },
  {
   "cell_type": "code",
   "execution_count": 5,
   "metadata": {},
   "outputs": [
    {
     "name": "stdout",
     "output_type": "stream",
     "text": [
      "-94.24777960769555 1.8289230408084628e-08\n",
      "94.24777960769555 1.8289230408084628e-08\n"
     ]
    }
   ],
   "source": [
    "Qup, err1 = scipy.integrate.quad( B_up, -np.inf, +np.inf )\n",
    "print( Qup, err1 )\n",
    "Qdown, err2 = scipy.integrate.quad( B_down, -np.inf, +np.inf )\n",
    "print( Qdown, err2 )"
   ]
  },
  {
   "cell_type": "markdown",
   "metadata": {},
   "source": [
    "Видно, что при численном интегрировании достигнута достаточно высокая точность. В итоге искомые тепловые потери на намагничивание и размагничивание образца ферромагнетика составляют:"
   ]
  },
  {
   "cell_type": "code",
   "execution_count": 6,
   "metadata": {},
   "outputs": [
    {
     "name": "stdout",
     "output_type": "stream",
     "text": [
      "Q = -0.007539822368615645 Дж\n"
     ]
    }
   ],
   "source": [
    "Q = V*(Qup - Qdown)\n",
    "print( 'Q = {} Дж'.format(Q) )"
   ]
  },
  {
   "cell_type": "code",
   "execution_count": null,
   "metadata": {},
   "outputs": [],
   "source": []
  }
 ],
 "metadata": {
  "jupytext": {
   "encoding": "# -*- coding: utf-8 -*-",
   "formats": "ipynb,py:light"
  },
  "kernelspec": {
   "display_name": "Python 3 (Spyder)",
   "language": "python3",
   "name": "python3"
  },
  "language_info": {
   "codemirror_mode": {
    "name": "ipython",
    "version": 3
   },
   "file_extension": ".py",
   "mimetype": "text/x-python",
   "name": "python",
   "nbconvert_exporter": "python",
   "pygments_lexer": "ipython3",
   "version": "3.7.7"
  },
  "latex_envs": {
   "LaTeX_envs_menu_present": true,
   "autoclose": false,
   "autocomplete": true,
   "bibliofile": "biblio.bib",
   "cite_by": "apalike",
   "current_citInitial": 1,
   "eqLabelWithNumbers": true,
   "eqNumInitial": 1,
   "hotkeys": {
    "equation": "Ctrl-E",
    "itemize": "Ctrl-I"
   },
   "labels_anchors": false,
   "latex_user_defs": false,
   "report_style_numbering": false,
   "user_envs_cfg": false
  }
 },
 "nbformat": 4,
 "nbformat_minor": 4
}
