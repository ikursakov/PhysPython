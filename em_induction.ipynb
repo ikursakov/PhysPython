{
 "cells": [
  {
   "cell_type": "markdown",
   "metadata": {},
   "source": [
    "# Электромагнитная индукция"
   ]
  },
  {
   "cell_type": "markdown",
   "metadata": {},
   "source": [
    "Магнитный диполь с моментом $p_m$ вращается с угловой скоростью $\\omega$ вокруг оси, проходящей через центр и перпендикулярной магнитному моменту. Плоская круглая рамка радиусом $a$ с сопротивлением $R$ движется со скоростью $\\vec{v}=(v_x,v_y,v_z)$; вектор нормали рамки $\\vec{n}$ перпендикулярен оси вращения диполя. Найдём ток $I$, возникающий в рамке вследствие индукции."
   ]
  },
  {
   "cell_type": "markdown",
   "metadata": {},
   "source": [
    "Вектор магнитной индукции от диполя определяется выражением:\n",
    "  $$\\vec{B} = \\frac{\\mu_0}{4\\pi} \\left[ \\frac{3(\\vec{p_m} \\cdot \\vec{r})\\vec{r}}{r^5} - \\frac{\\vec{p_m}}{r^3} \\right],$$ \n",
    "где $\\mu_0 = 1.2566 \\cdot 10^{-6}$ Гн/м — магнитная постоянная; $\\vec{p_m}$ — векторный магнитный момент диполя;  $\\vec{r}$ — радиус-вектор от центра диполя до точки наблюдения. Поскольку диполь вращается, то его магнитный момент\n",
    "$$\\vec{p_m}(t) = \\{0, \\;p_m \\sin(\\omega t), \\;p_m \\cos(\\omega t)\\}.$$"
   ]
  },
  {
   "cell_type": "markdown",
   "metadata": {},
   "source": [
    "Магнитный поток от диполя через плоскую рамку можно рассчитать, как\n",
    "$$\\Phi = \\iint_S \\vec{B} \\cdot d\\vec{S} = S (\\vec{B}(\\vec{r_c}) \\cdot \\vec{n}) = \\pi a^2 \\left( \\vec{B}(\\vec{r_c}) \\cdot \\vec{n} \\right)$$\n",
    "где $d\\vec{S}$ — векторный элемент поверхности рамки, $S = \\pi a^2$ — площадь рамки, $\\vec{r_c}$ — радиус-вектор от центра диполя до центра рамки;  $\\vec{B}(\\vec{r_c})$ — вектор магнитной индукции, рассчитанный в центре рамки.\n",
    "Поскольку рамка движется, то\n",
    "$$\\vec{r_c} = \\{ x_0 + v_x t, \\;y_0 + v_y t, \\;z_0 + v_z t \\}.$$\n",
    "Нормаль к плоскости рамки перпендикулярна оси вращения диполя, т.е.\n",
    "$$\\vec{n} = \\{ 0, \\;0, \\;1 \\}.$$"
   ]
  },
  {
   "cell_type": "markdown",
   "metadata": {},
   "source": [
    "Наконец, находим силу тока внутри провода рамки с помощью производной магнитного потока по времени\n",
    "$$ I = \\frac{1}{R} \\frac{\\partial \\Phi}{\\partial t}.$$"
   ]
  },
  {
   "cell_type": "markdown",
   "metadata": {},
   "source": [
    "## Решение в аналитическом виде"
   ]
  },
  {
   "cell_type": "markdown",
   "metadata": {},
   "source": [
    "Для получения искомой силы тока $I$ нужно вычислить производную магнитного потока $\\Phi(t)$, которая выражается через указанные аналитические формулы для магнитной индукции $\\vec{B}$, магнитного момента $\\vec{p_m}(t)$, расстояния до рамки $\\vec{r_c}(t)$. Выполним все преобразования в символьном виде с помощью библиотеки символьной математики [SymPy](http://sympy.org/en/). При этом для векторных вычислений будем использовать модуль `Vector` из состава `SymPy`.\n",
    "\n",
    "Начнём с импорта необходимых частей библиотеки, которыми мы будем пользоваться."
   ]
  },
  {
   "cell_type": "code",
   "execution_count": 2,
   "metadata": {},
   "outputs": [],
   "source": [
    "import sympy\n",
    "\n",
    "# Декартова система координат\n",
    "from sympy.vector import CoordSys3D\n",
    "N = CoordSys3D('N')"
   ]
  },
  {
   "cell_type": "markdown",
   "metadata": {},
   "source": [
    "Определим константы и независимые переменные как символьные и зададим аналитические выражения для исходных векторных величин: магнитного момента $\\vec{p_m}(t)$ и расстояния до рамки $\\vec{r_c}(t)$. При этом в качестве единичных базисных векторов $\\vec{i}$, $\\vec{j}$ и $\\vec{k}$ используем элементы определённого выше объекта системы координат `N.i`, `N.j` и `N.k` соответственно."
   ]
  },
  {
   "cell_type": "code",
   "execution_count": 37,
   "metadata": {},
   "outputs": [],
   "source": [
    "# Символьные константы\n",
    "mu0_, pi_ = sympy.Symbol('\\mu_0'), sympy.pi\n",
    "pm_, om_ = sympy.symbols('p_m, \\omega')\n",
    "x0_,y0_,z0_, vx_,vy_,vz_, a_, R_  = sympy.symbols('x_0,y_0,z_0, v_x,v_y,v_z, a_,R_')\n",
    "\n",
    "# Независимая переменная\n",
    "t_ = sympy.symbols('t')\n",
    "\n",
    "# Вектор магнитного момента\n",
    "v_pm = N.i* 0.0                    \\\n",
    "     + N.j* pm_*sympy.sin(om_*t_)  \\\n",
    "     + N.k* pm_*sympy.cos(om_*t_)\n",
    "\n",
    "# Радиус вектор рамки\n",
    "v_rc = N.i* (x0_ + vx_*t_) \\\n",
    "     + N.j* (y0_ + vy_*t_) \\\n",
    "     + N.k* (z0_ + vz_*t_)\n",
    "\n",
    "# Вектор нормали к рамке\n",
    "v_n = N.k * 1\n",
    "\n",
    "# Площадь рамки\n",
    "S_ = pi_ * a_**2"
   ]
  },
  {
   "cell_type": "markdown",
   "metadata": {},
   "source": [
    "Выразим вектор магнитной индукции $\\vec{B}(\\vec{r_c})$ и магнитный поток через рамку $\\Phi$ с помощью выписанных векторных выражений `v_pm` для $\\vec{p_m}$, `v_rc` для $\\vec{r_c}$ и `v_n` для $\\vec{n}$."
   ]
  },
  {
   "cell_type": "code",
   "execution_count": 39,
   "metadata": {},
   "outputs": [
    {
     "data": {
      "text/latex": [
       "$\\displaystyle \\mu_{0} a_{}^{2} \\left(- \\frac{p_{m} \\cos{\\left(\\omega t \\right)}}{\\left(\\left(t v_{x} + x_{0}\\right)^{2} + \\left(t v_{y} + y_{0}\\right)^{2} + \\left(t v_{z} + z_{0}\\right)^{2}\\right)^{\\frac{3}{2}}} + \\frac{\\left(t v_{z} + z_{0}\\right) \\left(3 p_{m} \\left(t v_{y} + y_{0}\\right) \\sin{\\left(\\omega t \\right)} + 3 p_{m} \\left(t v_{z} + z_{0}\\right) \\cos{\\left(\\omega t \\right)}\\right)}{\\left(\\left(t v_{x} + x_{0}\\right)^{2} + \\left(t v_{y} + y_{0}\\right)^{2} + \\left(t v_{z} + z_{0}\\right)^{2}\\right)^{\\frac{5}{2}}}\\right)$"
      ],
      "text/plain": [
       "\\mu_0*a_**2*(-p_m*cos(\\omega*t)/((t*v_x + x_0)**2 + (t*v_y + y_0)**2 + (t*v_z + z_0)**2)**(3/2) + (t*v_z + z_0)*(3*p_m*(t*v_y + y_0)*sin(\\omega*t) + 3*p_m*(t*v_z + z_0)*cos(\\omega*t))/((t*v_x + x_0)**2 + (t*v_y + y_0)**2 + (t*v_z + z_0)**2)**(5/2))"
      ]
     },
     "execution_count": 39,
     "metadata": {},
     "output_type": "execute_result"
    }
   ],
   "source": [
    "v_B = mu0_/pi_ * ( 3*v_pm.dot(v_rc)* v_rc/v_rc.magnitude()**5 - v_pm / v_rc.magnitude()**3 )\n",
    "Phi_ = S_ * v_B.dot(v_n)\n",
    "Phi_"
   ]
  },
  {
   "cell_type": "markdown",
   "metadata": {},
   "source": [
    "Всё готово для вычисления искомой силы тока $I(t)$ в аналитическом виде."
   ]
  },
  {
   "cell_type": "code",
   "execution_count": 40,
   "metadata": {},
   "outputs": [
    {
     "data": {
      "text/latex": [
       "$\\displaystyle \\frac{\\mu_{0} a_{}^{2} \\left(\\frac{\\omega p_{m} \\sin{\\left(\\omega t \\right)}}{\\left(\\left(t v_{x} + x_{0}\\right)^{2} + \\left(t v_{y} + y_{0}\\right)^{2} + \\left(t v_{z} + z_{0}\\right)^{2}\\right)^{\\frac{3}{2}}} - \\frac{p_{m} \\left(- 3 v_{x} \\left(t v_{x} + x_{0}\\right) - 3 v_{y} \\left(t v_{y} + y_{0}\\right) - 3 v_{z} \\left(t v_{z} + z_{0}\\right)\\right) \\cos{\\left(\\omega t \\right)}}{\\left(\\left(t v_{x} + x_{0}\\right)^{2} + \\left(t v_{y} + y_{0}\\right)^{2} + \\left(t v_{z} + z_{0}\\right)^{2}\\right)^{\\frac{5}{2}}} + \\frac{v_{z} \\left(3 p_{m} \\left(t v_{y} + y_{0}\\right) \\sin{\\left(\\omega t \\right)} + 3 p_{m} \\left(t v_{z} + z_{0}\\right) \\cos{\\left(\\omega t \\right)}\\right)}{\\left(\\left(t v_{x} + x_{0}\\right)^{2} + \\left(t v_{y} + y_{0}\\right)^{2} + \\left(t v_{z} + z_{0}\\right)^{2}\\right)^{\\frac{5}{2}}} + \\frac{\\left(t v_{z} + z_{0}\\right) \\left(3 p_{m} \\left(t v_{y} + y_{0}\\right) \\sin{\\left(\\omega t \\right)} + 3 p_{m} \\left(t v_{z} + z_{0}\\right) \\cos{\\left(\\omega t \\right)}\\right) \\left(- 5 v_{x} \\left(t v_{x} + x_{0}\\right) - 5 v_{y} \\left(t v_{y} + y_{0}\\right) - 5 v_{z} \\left(t v_{z} + z_{0}\\right)\\right)}{\\left(\\left(t v_{x} + x_{0}\\right)^{2} + \\left(t v_{y} + y_{0}\\right)^{2} + \\left(t v_{z} + z_{0}\\right)^{2}\\right)^{\\frac{7}{2}}} + \\frac{\\left(t v_{z} + z_{0}\\right) \\left(3 \\omega p_{m} \\left(t v_{y} + y_{0}\\right) \\cos{\\left(\\omega t \\right)} - 3 \\omega p_{m} \\left(t v_{z} + z_{0}\\right) \\sin{\\left(\\omega t \\right)} + 3 p_{m} v_{y} \\sin{\\left(\\omega t \\right)} + 3 p_{m} v_{z} \\cos{\\left(\\omega t \\right)}\\right)}{\\left(\\left(t v_{x} + x_{0}\\right)^{2} + \\left(t v_{y} + y_{0}\\right)^{2} + \\left(t v_{z} + z_{0}\\right)^{2}\\right)^{\\frac{5}{2}}}\\right)}{R_{}}$"
      ],
      "text/plain": [
       "\\mu_0*a_**2*(\\omega*p_m*sin(\\omega*t)/((t*v_x + x_0)**2 + (t*v_y + y_0)**2 + (t*v_z + z_0)**2)**(3/2) - p_m*(-3*v_x*(t*v_x + x_0) - 3*v_y*(t*v_y + y_0) - 3*v_z*(t*v_z + z_0))*cos(\\omega*t)/((t*v_x + x_0)**2 + (t*v_y + y_0)**2 + (t*v_z + z_0)**2)**(5/2) + v_z*(3*p_m*(t*v_y + y_0)*sin(\\omega*t) + 3*p_m*(t*v_z + z_0)*cos(\\omega*t))/((t*v_x + x_0)**2 + (t*v_y + y_0)**2 + (t*v_z + z_0)**2)**(5/2) + (t*v_z + z_0)*(3*p_m*(t*v_y + y_0)*sin(\\omega*t) + 3*p_m*(t*v_z + z_0)*cos(\\omega*t))*(-5*v_x*(t*v_x + x_0) - 5*v_y*(t*v_y + y_0) - 5*v_z*(t*v_z + z_0))/((t*v_x + x_0)**2 + (t*v_y + y_0)**2 + (t*v_z + z_0)**2)**(7/2) + (t*v_z + z_0)*(3*\\omega*p_m*(t*v_y + y_0)*cos(\\omega*t) - 3*\\omega*p_m*(t*v_z + z_0)*sin(\\omega*t) + 3*p_m*v_y*sin(\\omega*t) + 3*p_m*v_z*cos(\\omega*t))/((t*v_x + x_0)**2 + (t*v_y + y_0)**2 + (t*v_z + z_0)**2)**(5/2))/R_"
      ]
     },
     "execution_count": 40,
     "metadata": {},
     "output_type": "execute_result"
    }
   ],
   "source": [
    "I_ = Phi_.diff(t_) / R_\n",
    "I_"
   ]
  },
  {
   "cell_type": "markdown",
   "metadata": {},
   "source": [
    "Получается довольно громоздкое выражение, в которое явно входит, например, раскрытая до базовых переменных формула длины радиус-вектора рамки $\\vec{r_c}$. Выражение можно немного упростить с помощью метода `simpy.simplify()`, но следует учитывать, что метод на таком длинном выражении работает довольно долго. "
   ]
  },
  {
   "cell_type": "code",
   "execution_count": 34,
   "metadata": {},
   "outputs": [
    {
     "data": {
      "text/latex": [
       "$\\displaystyle \\frac{\\mu_{0} a_{}^{2} p_{m} \\left(\\omega \\left(\\left(t v_{x} + x_{0}\\right)^{2} + \\left(t v_{y} + y_{0}\\right)^{2} + \\left(t v_{z} + z_{0}\\right)^{2}\\right)^{2} \\sin{\\left(\\omega t \\right)} - 15 \\left(t v_{z} + z_{0}\\right) \\left(\\left(t v_{y} + y_{0}\\right) \\sin{\\left(\\omega t \\right)} + \\left(t v_{z} + z_{0}\\right) \\cos{\\left(\\omega t \\right)}\\right) \\left(v_{x} \\left(t v_{x} + x_{0}\\right) + v_{y} \\left(t v_{y} + y_{0}\\right) + v_{z} \\left(t v_{z} + z_{0}\\right)\\right) + 3 \\left(v_{z} \\left(\\left(t v_{y} + y_{0}\\right) \\sin{\\left(\\omega t \\right)} + \\left(t v_{z} + z_{0}\\right) \\cos{\\left(\\omega t \\right)}\\right) + \\left(t v_{z} + z_{0}\\right) \\left(\\omega \\left(t v_{y} + y_{0}\\right) \\cos{\\left(\\omega t \\right)} - \\omega \\left(t v_{z} + z_{0}\\right) \\sin{\\left(\\omega t \\right)} + v_{y} \\sin{\\left(\\omega t \\right)} + v_{z} \\cos{\\left(\\omega t \\right)}\\right) + \\left(v_{x} \\left(t v_{x} + x_{0}\\right) + v_{y} \\left(t v_{y} + y_{0}\\right) + v_{z} \\left(t v_{z} + z_{0}\\right)\\right) \\cos{\\left(\\omega t \\right)}\\right) \\left(\\left(t v_{x} + x_{0}\\right)^{2} + \\left(t v_{y} + y_{0}\\right)^{2} + \\left(t v_{z} + z_{0}\\right)^{2}\\right)\\right)}{R_{} \\left(\\left(t v_{x} + x_{0}\\right)^{2} + \\left(t v_{y} + y_{0}\\right)^{2} + \\left(t v_{z} + z_{0}\\right)^{2}\\right)^{\\frac{7}{2}}}$"
      ],
      "text/plain": [
       "\\mu_0*a_**2*p_m*(\\omega*((t*v_x + x_0)**2 + (t*v_y + y_0)**2 + (t*v_z + z_0)**2)**2*sin(\\omega*t) - 15*(t*v_z + z_0)*((t*v_y + y_0)*sin(\\omega*t) + (t*v_z + z_0)*cos(\\omega*t))*(v_x*(t*v_x + x_0) + v_y*(t*v_y + y_0) + v_z*(t*v_z + z_0)) + 3*(v_z*((t*v_y + y_0)*sin(\\omega*t) + (t*v_z + z_0)*cos(\\omega*t)) + (t*v_z + z_0)*(\\omega*(t*v_y + y_0)*cos(\\omega*t) - \\omega*(t*v_z + z_0)*sin(\\omega*t) + v_y*sin(\\omega*t) + v_z*cos(\\omega*t)) + (v_x*(t*v_x + x_0) + v_y*(t*v_y + y_0) + v_z*(t*v_z + z_0))*cos(\\omega*t))*((t*v_x + x_0)**2 + (t*v_y + y_0)**2 + (t*v_z + z_0)**2))/(R_*((t*v_x + x_0)**2 + (t*v_y + y_0)**2 + (t*v_z + z_0)**2)**(7/2))"
      ]
     },
     "execution_count": 34,
     "metadata": {},
     "output_type": "execute_result"
    }
   ],
   "source": [
    "I_.simplify()"
   ]
  },
  {
   "cell_type": "markdown",
   "metadata": {},
   "source": [
    "## Визуализация решения\n",
    "\n",
    "Для визуализации полученного решения применим библиотеки `NumPy` и `Matplotlib`."
   ]
  },
  {
   "cell_type": "code",
   "execution_count": 43,
   "metadata": {},
   "outputs": [],
   "source": [
    "import numpy as np\n",
    "\n",
    "# отображение графиков внутри блокнота (вызывать ПЕРЕД импортом библиотеки)\n",
    "%matplotlib inline\n",
    "import matplotlib.pyplot as plt"
   ]
  },
  {
   "cell_type": "markdown",
   "metadata": {},
   "source": [
    "Для построения графика $I(t)$ в полученном аналитическом выражении нужно задать конкретные численные значения для входящих в него констант. Выберем значения произвольно и проведём замену соответствующих символьных констант внутри выражения `I_` с помощью метода `subs()`."
   ]
  },
  {
   "cell_type": "code",
   "execution_count": 42,
   "metadata": {},
   "outputs": [],
   "source": [
    "Inum_ = I_.subs( {\n",
    "    mu0_ : 1.2566e-6, # магнитная постоянная\n",
    "    pm_ : 1.0,  # величина магнитного момента диполя\n",
    "    om_ : 2*float(pi_), # круговая частота вращения диполя\n",
    "    x0_ : 1.0, y0_ : 1.0, z0_ : 1.0, # начальные координаты центра рамки\n",
    "    vx_ : 1.0, vy_ : 2.0, vz_ : 3.0, # компоненты вектора скорости рамки\n",
    "    a_ : 1.0, # радиус рамки\n",
    "    R_ : 1.0  # сопротивление рамки\n",
    "    }, simultaneous=True )"
   ]
  },
  {
   "cell_type": "markdown",
   "metadata": {},
   "source": [
    "Теперь преобразуем полученное символьное выражение SymPy в функцию python с помощью метода `sympy.lambdify()`. Нужно только указать, что символ `t_` является независимой переменной."
   ]
  },
  {
   "cell_type": "code",
   "execution_count": 44,
   "metadata": {},
   "outputs": [],
   "source": [
    "Ifunc = sympy.lambdify( (t_), Inum_ )"
   ]
  },
  {
   "cell_type": "markdown",
   "metadata": {},
   "source": [
    "Наконец, построим график зависимости силы тока в рамке от времени"
   ]
  },
  {
   "cell_type": "code",
   "execution_count": 50,
   "metadata": {},
   "outputs": [
    {
     "data": {
      "image/png": "[encoded data removed]",
      "text/plain": [
       "<Figure size 432x288 with 1 Axes>"
      ]
     },
     "metadata": {},
     "output_type": "display_data"
    }
   ],
   "source": [
    "tt = np.arange(0.0, 5.0, 0.05)\n",
    "plt.xlabel('t')\n",
    "plt.ylabel('$I$')\n",
    "plt.plot( tt, Ifunc(tt) );"
   ]
  },
  {
   "cell_type": "markdown",
   "metadata": {},
   "source": [
    "Видим очевидный результат: по мере удаления рамки от вращающегося диполя сила тока в рамке уменьшается."
   ]
  },
  {
   "cell_type": "code",
   "execution_count": null,
   "metadata": {},
   "outputs": [],
   "source": []
  }
 ],
 "metadata": {
  "jupytext": {
   "encoding": "# -*- coding: utf-8 -*-",
   "formats": "ipynb,py:light"
  },
  "kernelspec": {
   "display_name": "Python 3 (Spyder)",
   "language": "python3",
   "name": "python3"
  },
  "language_info": {
   "codemirror_mode": {
    "name": "ipython",
    "version": 3
   },
   "file_extension": ".py",
   "mimetype": "text/x-python",
   "name": "python",
   "nbconvert_exporter": "python",
   "pygments_lexer": "ipython3",
   "version": "3.7.7"
  },
  "latex_envs": {
   "LaTeX_envs_menu_present": true,
   "autoclose": false,
   "autocomplete": true,
   "bibliofile": "biblio.bib",
   "cite_by": "apalike",
   "current_citInitial": 1,
   "eqLabelWithNumbers": true,
   "eqNumInitial": 1,
   "hotkeys": {
    "equation": "Ctrl-E",
    "itemize": "Ctrl-I"
   },
   "labels_anchors": false,
   "latex_user_defs": false,
   "report_style_numbering": false,
   "user_envs_cfg": false
  }
 },
 "nbformat": 4,
 "nbformat_minor": 4
}
