{
 "cells": [
  {
   "cell_type": "markdown",
   "metadata": {},
   "source": [
    "## Энергия электрического поля"
   ]
  },
  {
   "cell_type": "markdown",
   "metadata": {},
   "source": [
    "Два небольших металлических шарика радиусами $R_1$ и $R_2$ находятся в вакууме на расстоянии, значительно превышающем их\n",
    "размеры, и имеют некоторый определенный суммарный заряд.\n",
    "При каком отношении $\\frac{q_1}{q_2}$ зарядов на шариках электрическая энергия системы будет минимальной? Какова при этом разность\n",
    "потенциалов между шариками?"
   ]
  },
  {
   "cell_type": "markdown",
   "metadata": {},
   "source": [
    "----------------------"
   ]
  },
  {
   "cell_type": "markdown",
   "metadata": {},
   "source": [
    "Электрическая энергия системы может быть записана в виде\n",
    "\n",
    "$$\n",
    "W = W_1 + W_2 + W_{12} = \\frac{1}{4\\pi\\varepsilon_0}\\left(\\frac{q_1^2}{2R_1} + \\frac{q_2^2}{2R_2} + \\frac{q_1 q_2}{l}\\right),\n",
    "$$"
   ]
  },
  {
   "cell_type": "markdown",
   "metadata": {},
   "source": [
    "Поскольку $q_1 + q_2 = q$, можно запиать энергию как функцию одной переменной:\n",
    "\n",
    "$$\n",
    "W =  \\frac{1}{4\\pi\\varepsilon_0}\\left(\\frac{q_1^2}{2R_1} + \\frac{(q- q_1)^2}{2R_2} + \\frac{q_1 (q- q_1)}{l}\\right)\n",
    "$$"
   ]
  },
  {
   "cell_type": "markdown",
   "metadata": {
    "slideshow": {
     "slide_type": "fragment"
    }
   },
   "source": [
    "Подключим `sympy`, вычислим производную $\\frac{dW}{dq_1}$ и решим уравнение $\\frac{dW}{dq_1} = 0$"
   ]
  },
  {
   "cell_type": "code",
   "execution_count": 12,
   "metadata": {},
   "outputs": [],
   "source": [
    "import sympy\n",
    "q_1,q,R_1,R_2,l = sympy.symbols('q_1,q,R_1,R_2,l')\n",
    "W = q_1**2/(2*R_1) + (q - q_1)**2/(2*R_2) + q_1*(q - q_1)/l"
   ]
  },
  {
   "cell_type": "code",
   "execution_count": 13,
   "metadata": {},
   "outputs": [
    {
     "data": {
      "text/latex": [
       "$\\displaystyle \\frac{q_{1} \\left(q - q_{1}\\right)}{l} + \\frac{\\left(q - q_{1}\\right)^{2}}{2 R_{2}} + \\frac{q_{1}^{2}}{2 R_{1}}$"
      ],
      "text/plain": [
       "q_1*(q - q_1)/l + (q - q_1)**2/(2*R_2) + q_1**2/(2*R_1)"
      ]
     },
     "execution_count": 13,
     "metadata": {},
     "output_type": "execute_result"
    }
   ],
   "source": [
    "W"
   ]
  },
  {
   "cell_type": "markdown",
   "metadata": {},
   "source": [
    "Производная потенциальной энергии по заряду $q_1$:"
   ]
  },
  {
   "cell_type": "code",
   "execution_count": 14,
   "metadata": {},
   "outputs": [
    {
     "data": {
      "text/latex": [
       "$\\displaystyle - \\frac{q_{1}}{l} + \\frac{q - q_{1}}{l} + \\frac{- 2 q + 2 q_{1}}{2 R_{2}} + \\frac{q_{1}}{R_{1}}$"
      ],
      "text/plain": [
       "-q_1/l + (q - q_1)/l + (-2*q + 2*q_1)/(2*R_2) + q_1/R_1"
      ]
     },
     "execution_count": 14,
     "metadata": {},
     "output_type": "execute_result"
    }
   ],
   "source": [
    "W.diff(q_1)"
   ]
  },
  {
   "cell_type": "markdown",
   "metadata": {
    "slideshow": {
     "slide_type": "subslide"
    }
   },
   "source": [
    "Из уравнения $\\frac{dW}{dq_1}$ найдем величину заряда $q_1$:"
   ]
  },
  {
   "cell_type": "code",
   "execution_count": 15,
   "metadata": {},
   "outputs": [
    {
     "data": {
      "text/latex": [
       "$\\displaystyle \\left\\{\\frac{R_{1} q \\left(- R_{2} + l\\right)}{- 2 R_{1} R_{2} + R_{1} l + R_{2} l}\\right\\}$"
      ],
      "text/plain": [
       "{R_1*q*(-R_2 + l)/(-2*R_1*R_2 + R_1*l + R_2*l)}"
      ]
     },
     "execution_count": 15,
     "metadata": {},
     "output_type": "execute_result"
    }
   ],
   "source": [
    "sympy.solveset(W.diff(q_1),q_1)"
   ]
  },
  {
   "cell_type": "markdown",
   "metadata": {},
   "source": [
    "Разделим числитель и знаменатель получившегося выражения на $l$ и вспомним, что $R_1 << l$ и $R_2 << l$. Тогда получим\n",
    "\n",
    "$$q_1 = q\\frac{R_1}{R_1  +R_2}$$\n",
    "\n",
    "и \n",
    "\n",
    "$$q_2 = q\\frac{R_1}{R_1  +R_2}$$\n",
    "\n",
    "Таким образом \n",
    "\n",
    "$$\n",
    "\\frac{q_1}{q_2} = \\frac{R_1}{R_2}\n",
    "$$"
   ]
  },
  {
   "cell_type": "markdown",
   "metadata": {},
   "source": [
    "Осталось найти потенциалы. Поскольку $l >> R$, можно считать шарики изолированными. Тогда $\\varphi \\propto q/R$, что означает, что $\\varphi_1 = \\varphi_2$ и разность потенциалов равна нулю."
   ]
  },
  {
   "cell_type": "code",
   "execution_count": null,
   "metadata": {},
   "outputs": [],
   "source": []
  }
 ],
 "metadata": {
  "jupytext": {
   "formats": "ipynb,py:light"
  },
  "kernelspec": {
   "display_name": "Python 3",
   "language": "python",
   "name": "python3"
  },
  "language_info": {
   "codemirror_mode": {
    "name": "ipython",
    "version": 3
   },
   "file_extension": ".py",
   "mimetype": "text/x-python",
   "name": "python",
   "nbconvert_exporter": "python",
   "pygments_lexer": "ipython3",
   "version": "3.7.3"
  }
 },
 "nbformat": 4,
 "nbformat_minor": 2
}
